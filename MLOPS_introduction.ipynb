{
  "nbformat": 4,
  "nbformat_minor": 0,
  "metadata": {
    "colab": {
      "provenance": []
    },
    "kernelspec": {
      "name": "python3",
      "display_name": "Python 3"
    },
    "language_info": {
      "name": "python"
    }
  },
  "cells": [
    {
      "cell_type": "code",
      "source": [
        "#data is key to machine learning, openAI invest millions of money on data collectn sourcing synthesis, than on\n",
        "#model building\n",
        "\n",
        "#data       data engineering      modeling      operationalizing\n",
        "\n",
        "#model need to come out from notebook in form of pyspark, scala or python script\n",
        "\n",
        "#in operationalizing we first do registration before deployment because model need to be registered on a node so that\n",
        "#client can access that\n",
        "#registration is also called version control"
      ],
      "metadata": {
        "id": "KHX2QtP5CL4q"
      },
      "execution_count": null,
      "outputs": []
    },
    {
      "cell_type": "code",
      "source": [
        "#we need to have debugging nature to resolve installing of things, things not working out so need to have that skill\n",
        "#of resolving"
      ],
      "metadata": {
        "id": "UHuEaDU6KERB"
      },
      "execution_count": null,
      "outputs": []
    },
    {
      "cell_type": "code",
      "source": [
        "#data ingest- getting data from sql, query engine, etc"
      ],
      "metadata": {
        "id": "NIindqjQKhYE"
      },
      "execution_count": null,
      "outputs": []
    },
    {
      "cell_type": "code",
      "source": [
        "#MLOPs comes from DevOPs\n",
        "#writing code comes under software development and deploying that managaing that, deriving values all these things\n",
        "#handling comes in DevOPs\n",
        "\n",
        "#but in ML logic is not the only thing but the data also, and our apps that are deployed getting a lot of data\n",
        "# so we need to know distributed app concept the cloud working\n",
        "\n",
        "#MLOPs is actually marraing developers operation and this machine learning lifecycle\n",
        "#for MLOPs understanding machine learning, models is must"
      ],
      "metadata": {
        "id": "sR4JIA-QK98D"
      },
      "execution_count": null,
      "outputs": []
    },
    {
      "cell_type": "code",
      "source": [
        "#if a person know about ML and infrastructure like sql, data pipeline through scala, distributed way working so he is\n",
        "# data platform engineer\n",
        "#and if know ML and software engineering then ml engineering\n",
        "#and all three together is MLOPs\n"
      ],
      "metadata": {
        "id": "Z5a4BsQQMRoP"
      },
      "execution_count": null,
      "outputs": []
    },
    {
      "cell_type": "code",
      "source": [
        "#version control is basically saving your work\n",
        "#we make node then if make changes to that then new node created and if we want to go back to previous without change one\n",
        "#then can go there to privious version\n",
        "#version control has advantage in collaborated working\n",
        "\n",
        "#git is developed that is actual service and on that github is made, bitbucket, AWS commit, etc\n",
        "#we have functionality of branching in this where many people working on same thing diffferently then after that\n",
        "#merging is done\n",
        "\n",
        "#documentation is must because when we move from one version to other than have to specify in a good and understanding manner\n"
      ],
      "metadata": {
        "id": "twizl4IwO6pJ"
      },
      "execution_count": null,
      "outputs": []
    },
    {
      "cell_type": "code",
      "source": [
        "#git is DVCS, distributed type of version control"
      ],
      "metadata": {
        "id": "-57TSGI2TbX5"
      },
      "execution_count": null,
      "outputs": []
    },
    {
      "cell_type": "code",
      "source": [],
      "metadata": {
        "id": "lC-CaUaaTfs5"
      },
      "execution_count": null,
      "outputs": []
    }
  ]
}