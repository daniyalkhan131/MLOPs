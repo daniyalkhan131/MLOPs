{
 "cells": [
  {
   "cell_type": "code",
   "execution_count": 2,
   "metadata": {
    "id": "vrMfKIIugQOP"
   },
   "outputs": [],
   "source": [
    "#we have cookie cutter and using that we cut cookies or shape them\n",
    "#same for a project we have a defined structure, process same but output different\n",
    "#stadardize the things so we can foloow that\n",
    "#so people created a stardard for machine learning project\n",
    "#cookiecutter library"
   ]
  },
  {
   "cell_type": "code",
   "execution_count": 1,
   "metadata": {
    "id": "xMF3TLrAj9Zh"
   },
   "outputs": [],
   "source": [
    "#all things done in command line as it is for creating template for project\n",
    "#cookiecutter -c v1 https://github.com/drivendata/cookiecutter-data-science\n",
    "\n",
    "#we are using version 1 and this link is the template, we can define our own template and put that on github and can use\n",
    "# -c is branch\n",
    "\n",
    "#using hyphen is industry best practice\n",
    "# if aws setup then we can define s3 bucket of public defined, this is very handy asafterwards people dont understand\n",
    "#that in which file we have to add that\n",
    "\n",
    "#aws profile so that if in future use aws for something than can verify\n",
    "\n",
    "#use vs code and for in current directory write code .\n"
   ]
  },
  {
   "cell_type": "code",
   "execution_count": 3,
   "metadata": {
    "id": "n6cS8_OJkCyu"
   },
   "outputs": [],
   "source": [
    "#do proper documentation of work then running one library on that will convert that into a proper website documentation\n",
    "#like in sklearn or fastAI\n",
    "\n",
    "#requirements.txt file contain all libraries and their version that is needed\n",
    "#setup.py make project installable like if want to pip installable then that comes in this\n",
    "#src contain the actual code"
   ]
  },
  {
   "cell_type": "code",
   "execution_count": 4,
   "metadata": {
    "id": "ggTsDoeBwi7p"
   },
   "outputs": [],
   "source": [
    "#and we write things in different different py files like data creation in one file then data tranformation in other\n",
    "#and these files share things or data with each other like creation file when store data then preprocess file take\n",
    "#and process and store that then other file take n so on"
   ]
  },
  {
   "cell_type": "code",
   "execution_count": 6,
   "metadata": {
    "id": "AEP-cx1Lw9Hb"
   },
   "outputs": [],
   "source": [
    "#til now we have seen only version control of code using github but in ML we need to do version control of code,\n",
    "#data and model together so we will see that in future\n",
    "\n",
    "#we need to track all things together as otherwise companies spend month on doing this"
   ]
  },
  {
   "cell_type": "code",
   "execution_count": 7,
   "metadata": {
    "id": "PyVidwNFxjGb"
   },
   "outputs": [],
   "source": [
    "#gitignore file contain things that we dont want to push on github like data or sensitive info\n",
    "#.env file contain sensitive info like api keys"
   ]
  },
  {
   "cell_type": "code",
   "execution_count": 1,
   "metadata": {
    "id": "IfH367lszXat"
   },
   "outputs": [],
   "source": [
    "#in vscode we can directly do notebook task, it has jupyter notebook in it"
   ]
  },
  {
   "cell_type": "code",
   "execution_count": 2,
   "metadata": {},
   "outputs": [],
   "source": [
    " #for higher development people use nbdev in that code directly go from notebook to different file section in vs code\n",
    " #but for that we have to define instruction on cell that what we want to do with this, bascically it resolves the copy\n",
    " #pasting part, but dont use this now"
   ]
  },
  {
   "cell_type": "code",
   "execution_count": 3,
   "metadata": {},
   "outputs": [],
   "source": [
    "#gitkeep is for like things we define in gitignore but a small file or folder or part we want to be on cloud so we mention\n",
    "#that in gitkeep"
   ]
  },
  {
   "cell_type": "code",
   "execution_count": null,
   "metadata": {},
   "outputs": [],
   "source": []
  }
 ],
 "metadata": {
  "colab": {
   "provenance": []
  },
  "kernelspec": {
   "display_name": "Python 3 (ipykernel)",
   "language": "python",
   "name": "python3"
  },
  "language_info": {
   "codemirror_mode": {
    "name": "ipython",
    "version": 3
   },
   "file_extension": ".py",
   "mimetype": "text/x-python",
   "name": "python",
   "nbconvert_exporter": "python",
   "pygments_lexer": "ipython3",
   "version": "3.11.4"
  }
 },
 "nbformat": 4,
 "nbformat_minor": 1
}
