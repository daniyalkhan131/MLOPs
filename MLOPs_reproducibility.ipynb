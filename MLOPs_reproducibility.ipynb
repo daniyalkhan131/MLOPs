{
  "nbformat": 4,
  "nbformat_minor": 0,
  "metadata": {
    "colab": {
      "provenance": []
    },
    "kernelspec": {
      "name": "python3",
      "display_name": "Python 3"
    },
    "language_info": {
      "name": "python"
    }
  },
  "cells": [
    {
      "cell_type": "code",
      "execution_count": 2,
      "metadata": {
        "id": "vrMfKIIugQOP"
      },
      "outputs": [],
      "source": [
        "#we have cookie cutter and using that we cut cookies or shape them\n",
        "#same for a project we have a defined structure, process same but output different\n",
        "#stadardize the things so we can foloow that\n",
        "#so people created a stardard for machine learning project\n",
        "#cookiecutter library"
      ]
    },
    {
      "cell_type": "code",
      "source": [
        "#all things done in command line as it is for creating template for project\n",
        "#cookiecutter -c v1 https://github.com/drivendata/cookiecutter-data-science\n",
        "\n",
        "#we are using version 1 and this link is the template, we can define our own template and put that on github and can use\n",
        "# -c is branch\n",
        "\n",
        "#using hyphen is industry best practice\n",
        "# if aws setup then we can define s3 bucket of public defined, this is very handy asafterwards people dont understand\n",
        "#that in which file we have to add that\n",
        "\n",
        "#aws profile so that if in future use aws for something than can verify\n",
        "\n",
        "#use vs code and for in current directory write code .\n"
      ],
      "metadata": {
        "id": "xMF3TLrAj9Zh"
      },
      "execution_count": 1,
      "outputs": []
    },
    {
      "cell_type": "code",
      "source": [
        "#do proper documentation of work then running one library on that will convert that into a proper website documentation\n",
        "#like in sklearn or fastAI\n",
        "\n",
        "#requirements.txt file contain all libraries and their version that is needed\n",
        "#setup.py make project installable like if want to pip installable then that comes in this\n",
        "#src contain the actual code"
      ],
      "metadata": {
        "id": "n6cS8_OJkCyu"
      },
      "execution_count": 3,
      "outputs": []
    },
    {
      "cell_type": "code",
      "source": [
        "#and we write things in different different py files like data creation in one file then data tranformation in other\n",
        "#and these files share things or data with each other like creation file when store data then preprocess file take\n",
        "#and process and store that then other file take n so on"
      ],
      "metadata": {
        "id": "ggTsDoeBwi7p"
      },
      "execution_count": 4,
      "outputs": []
    },
    {
      "cell_type": "code",
      "source": [
        "#til now we have seen only version control of code using github but in ML we need to do version control of code,\n",
        "#data and model together so we will see that in future\n",
        "\n",
        "#we need to track all things together as otherwise companies spend month on doing this"
      ],
      "metadata": {
        "id": "AEP-cx1Lw9Hb"
      },
      "execution_count": 6,
      "outputs": []
    },
    {
      "cell_type": "code",
      "source": [
        "#gitignore file contain things that we dont want to push on github like data or sensitive info\n",
        "#.env file contain sensitive info like api keys"
      ],
      "metadata": {
        "id": "PyVidwNFxjGb"
      },
      "execution_count": 7,
      "outputs": []
    },
    {
      "cell_type": "code",
      "source": [],
      "metadata": {
        "id": "IfH367lszXat"
      },
      "execution_count": null,
      "outputs": []
    }
  ]
}