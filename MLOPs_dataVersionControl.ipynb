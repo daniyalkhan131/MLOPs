{
  "nbformat": 4,
  "nbformat_minor": 0,
  "metadata": {
    "colab": {
      "provenance": []
    },
    "kernelspec": {
      "name": "python3",
      "display_name": "Python 3"
    },
    "language_info": {
      "name": "python"
    }
  },
  "cells": [
    {
      "cell_type": "code",
      "execution_count": null,
      "metadata": {
        "id": "0b0tlUCljs78"
      },
      "outputs": [],
      "source": [
        "#when model data is becoming big then github made a thing to control that called git lfs (lfs-large files)\n",
        "#but it didnt work well\n",
        "#people were using hacks to versio control data and model, while controlling software or code was easy\n",
        "#but these hacks cot billions of losses for companies\n",
        "\n",
        "#you to bring DVC in your practice just like cookiecutter\n",
        "\n",
        "#two libraries are created that is DVC and CML"
      ]
    },
    {
      "cell_type": "code",
      "source": [
        "#now a days one framework is doing many things beacuse of compitetion but we will study that tool for purpose it is\n",
        "#designed like now DVC also doing work of mlflow"
      ],
      "metadata": {
        "id": "-BhamMTxo1B_"
      },
      "execution_count": null,
      "outputs": []
    },
    {
      "cell_type": "code",
      "source": [
        "#DVC is built over git, they thing that data should be kept in laptop only where model creator can access, it is called cache folder\n",
        "#where it is stored\n",
        "#DVC take photo of model+data+code at that time and store that in cache folder and create id of that\n",
        "#and an id file is created and store that contain ids\n",
        "\n",
        "#now data increase, so change in data so we ask dvc to commit so it will again take photo of model+data+code and store\n",
        "#that in cache and store id of that\n",
        "#and now if other changes in any of these 3 than again same thing happen\n",
        "\n",
        "#and this id file take with git and when this file comes in local from git then data modesl part handled\n",
        "# .dvc file is regestry file\n",
        "\n",
        "#we take code+.dvc file and push using git to cloud(github,gitlab)\n",
        "#and store data+model.pkl to any cloud platform(as local memory can damage) and only have to give location of that cloud storage\n",
        "# dvc store all commits to cloud and only retain some recent commits in local"
      ],
      "metadata": {
        "id": "xtFLM7ZWpKr_"
      },
      "execution_count": null,
      "outputs": []
    },
    {
      "cell_type": "code",
      "source": [
        "#dvc init we do on teeminal\n",
        "#after this .dvc file and .dvcignore file comes in folder"
      ],
      "metadata": {
        "id": "8FClI8LV3CFj"
      },
      "execution_count": null,
      "outputs": []
    },
    {
      "cell_type": "code",
      "source": [
        "# do dvc init in the same directory where git init is done"
      ],
      "metadata": {
        "id": "jfM3kco0Lb-4"
      },
      "execution_count": null,
      "outputs": []
    },
    {
      "cell_type": "code",
      "source": [
        "#git ignore file in .dvc contain data like temp,cache,config.local that it will not send this data to git, not trakced\n",
        "#by git\n"
      ],
      "metadata": {
        "id": "laNwSGzITk2U"
      },
      "execution_count": null,
      "outputs": []
    },
    {
      "cell_type": "code",
      "source": [
        "#now for tracking data with dvc we write dvc add data/\n",
        "#it will show error as it sayes that u need to remove data things tracking from git, so it command to run to prvent\n",
        "#tracking of specified file from git and it do things itself\n",
        "\n",
        "#git rm -r --cached 'data'\n",
        "#git commit -m \"stop tracking data\"\n",
        "\n",
        "#now do dvc add data/"
      ],
      "metadata": {
        "id": "Bur_AmZeVf8D"
      },
      "execution_count": null,
      "outputs": []
    },
    {
      "cell_type": "code",
      "source": [
        "#then it will itself tell that it add registry file data.dvc and make changes in gitignore file\n",
        "# do this git add .gitignore data.dvc\n",
        "\n",
        "#dvc status for chening status\n",
        "\n",
        "#now when we make changes in data them that wont be seen in git status as data is not tracked by git it will be tracked by\n",
        "#dvc and for that we need to tell remote location where it can track data change and for that now we will make remote\n",
        "#location on our laptop but can use any cloud service\n"
      ],
      "metadata": {
        "id": "X_1HYU5LWXoa"
      },
      "execution_count": null,
      "outputs": []
    },
    {
      "cell_type": "code",
      "source": [
        "#mkdir /tmp/dvcstore\n",
        "#dvc remote add -d myremote /tmp/dvcstore\n",
        "#we do this to create remote locatn to store data, now our remote locatn is laptop projects/projectname folder where we\n",
        "#add temp file"
      ],
      "metadata": {
        "id": "YinUqNGzYtHP"
      },
      "execution_count": null,
      "outputs": []
    },
    {
      "cell_type": "code",
      "source": [
        "#we first commit change using git commit and now we can push change in data using git push\n",
        "#every time we cahnge in data then data.dvc and gitignore file changes and these files are track by github so we have\n",
        "#to git push after this\n",
        "\n",
        "#dvc -h for help, use -h for help docs"
      ],
      "metadata": {
        "id": "5kwmTyZVJGcF"
      },
      "execution_count": 1,
      "outputs": []
    },
    {
      "cell_type": "code",
      "source": [
        "#we can undo the changes using git, we store code to github and .dvc that track data in remote location, now\n",
        "#we thing that changes made to data was not good so we can get to previous state using\n",
        "# git command for undo commit, we can do this using vs code or command line git\n",
        "\n",
        "#and then we stash(deffrentiating) that state, from where we undo and now make this state as our current state and delete\n",
        "#or drop that stash state\n",
        "\n",
        "\n",
        "\n",
        "#with git i used 'git revert SHAid' and 'git reset SHAid' , and dont know how to stash, person used vscode for that\n",
        "\n",
        "\n",
        "#dvc only show modified when he sees difference between data.dvc file and data it is tracking, when we delete test.txt\n",
        "#file manually so we see data modified but when we revert back to that state using git then no difference seen by dvc\n",
        "#in data and registry it is maintaining\n",
        "\n"
      ],
      "metadata": {
        "id": "uMBdoT21BZ_t"
      },
      "execution_count": 2,
      "outputs": []
    },
    {
      "cell_type": "code",
      "source": [
        "# .soemthing is a file that lib or software want to keep internal for doing task, maintaing records to do that\n"
      ],
      "metadata": {
        "id": "ypkROsZ8Ov3W"
      },
      "execution_count": 3,
      "outputs": []
    },
    {
      "cell_type": "code",
      "source": [
        "#if we want to go to very previous state then we can got to that state and do not delete things, we make branch of that\n",
        "#start working on that and then merge that thing\n"
      ],
      "metadata": {
        "id": "OvKdCVx-PQy7"
      },
      "execution_count": 4,
      "outputs": []
    },
    {
      "cell_type": "code",
      "source": [
        "#now delete cache file from .dvc, so it wont have anything no data, so we pull data from remote location using\n",
        "#delete manually or by command\n",
        "#it will show      not in cache:       data\n",
        "#then do\n",
        "#dvc pull\n",
        "#after this cache folder will be created"
      ],
      "metadata": {
        "id": "Ep1jV7I8Qf85"
      },
      "execution_count": null,
      "outputs": []
    }
  ]
}