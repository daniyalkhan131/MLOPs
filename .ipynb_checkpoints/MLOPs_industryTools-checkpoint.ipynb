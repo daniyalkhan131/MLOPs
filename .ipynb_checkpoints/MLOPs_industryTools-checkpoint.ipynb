{
 "cells": [
  {
   "cell_type": "code",
   "execution_count": 1,
   "id": "6cc2fc00",
   "metadata": {},
   "outputs": [],
   "source": [
    "#use vs code and git hub, most comanies use this combination"
   ]
  },
  {
   "cell_type": "code",
   "execution_count": 2,
   "id": "2eda2195",
   "metadata": {},
   "outputs": [],
   "source": [
    "#for music concert we need\n",
    "# all instruments\n",
    "# orchestrator\n",
    "# people who play\n",
    "#above is foundation\n",
    "\n",
    "#then scripting story what to perform\n",
    "\n",
    "#crafting the tunes means each instrument player working with there piece and also sharing notes collaborating\n",
    "\n",
    "#now rehearsing the act, means all together comes with orchestrator\n",
    "\n",
    "#then music night\n",
    "\n",
    "#critics reviews\n",
    "\n",
    "#security "
   ]
  },
  {
   "cell_type": "code",
   "execution_count": 3,
   "id": "c8cadae0",
   "metadata": {},
   "outputs": [],
   "source": [
    "#Our team started their journey with Provision and Configuration\n",
    "#They used tools like Ansible, teraform to automate the setup of servers\n",
    "#writing the requirements in json format and give to ansible and so it will provision and procure these things for u\n",
    "#Docker allowed them to create isolated environments for their applications, \n",
    "#while Kubernetes orchestrated the deployment, taking care of how flow goes from one instrument to other\n",
    "#Service Mesh do take care of that all these instruments or code be connected so orchestrator can do its task\n",
    "\n",
    "\n",
    "#planning and cordination is done by these services Jira and Trello\n",
    "\n",
    "\n",
    "#now writing codes, collaborating using github\n",
    "#henkins is used when working with other lang.s as the need to first build together but python we dont need that\n",
    "\n",
    "\n",
    "#continuous integration\n",
    "#Travis CI for this or github CI \n",
    "\n",
    "\n",
    "#before actual musical night we do stage night like make thing for zomato then before puttinh that to app that has\n",
    "#millions user we put it on a stage where internal workers can use and see\n",
    "#then we live it\n",
    "#and we do continuous delivery of that, we use spinnaker for this\n",
    "\n",
    "\n",
    "#grafana is visualization tool for seeing real time audience reaction\n",
    "\n",
    "\n",
    "#security OWASP ZAP"
   ]
  },
  {
   "cell_type": "code",
   "execution_count": null,
   "id": "8e8713ec",
   "metadata": {},
   "outputs": [],
   "source": []
  }
 ],
 "metadata": {
  "kernelspec": {
   "display_name": "Python 3 (ipykernel)",
   "language": "python",
   "name": "python3"
  },
  "language_info": {
   "codemirror_mode": {
    "name": "ipython",
    "version": 3
   },
   "file_extension": ".py",
   "mimetype": "text/x-python",
   "name": "python",
   "nbconvert_exporter": "python",
   "pygments_lexer": "ipython3",
   "version": "3.11.4"
  }
 },
 "nbformat": 4,
 "nbformat_minor": 5
}
